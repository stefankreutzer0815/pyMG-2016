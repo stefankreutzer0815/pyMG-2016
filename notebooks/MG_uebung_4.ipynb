{
 "cells": [
  {
   "cell_type": "markdown",
   "metadata": {},
   "source": [
    "<center> \n",
    "<h1> Mehrgittermethoden </h1> \n",
    "<h2> Übungsaufgaben </h2>\n",
    "<h3> Robert Speck & Dieter Moser, Sommersemester 2016 </h3>\n",
    "</center>\n",
    "___\n"
   ]
  },
  {
   "cell_type": "markdown",
   "metadata": {},
   "source": [
    "### Der FMG-Zyklus ###\n",
    "\n",
    "Implementieren Sie entweder die rekursive oder die nicht-rekursive Version des FMG-Prediktors mit anschließenden V-Zyklen. Fügen Sie die Funktionalität in die `MyMultigrid`-Klasse ein. Stellen Sie die Entwicklung des Fehlers für das Poisson-Problem grafisch dar, indem Sie für jedes Level (z.B. nach der Grobgitter-Korrektur) den Fehler über die Freiheitsgrade plotten. \n",
    "\n",
    "Vergleichen Sie den Fehler mit dem Diskretisierungsfehler des Laplace-Operators und mit dem Fehler von $k$ V-Zyklen."
   ]
  },
  {
   "cell_type": "markdown",
   "metadata": {},
   "source": [
    "### Fourier Reihen \n",
    "\n",
    "Sei $\\{t_k\\}_{-\\infty}^{\\infty}$ eine absolut summierbare Folge, d.h. $\\sum_{k=-\\infty}^{\\infty}|t_k| < \\infty$.\n",
    "Sei desweiteren $f(\\lambda) = \\lim_{n \\to \\infty} \\sum_{k=-n}^{n}t_k e^{ik\\lambda}$.\n",
    "\n",
    "1. Zeigen Sie, dass $S_n(\\lambda) = \\sum_{k=-n}^{n}t_k e^{ik\\lambda}$ gleichmässig gegen $f(\\lambda)$ konvergiert.\n",
    "1. Folgern Sie, dass $f(\\lambda)$ Riemann-integrierbar und beschränkt auf $[0,2\\pi]$ ist.\n",
    "1. Finden Sie mithilfe der inversen Fouriertransformation eine Darstellung von $t_k$ unter Verwendung von $f(\\lambda)$.\n",
    "\n",
    "Wir nennen $f(\\lambda)$ eine Funktion der *Wiener Klasse*.\n"
   ]
  },
  {
   "cell_type": "markdown",
   "metadata": {},
   "source": [
    "### Über Toeplitz-Matrizen (Teil 1)\n",
    "Eine Matrix nennt man eine Toeplitz-Matrix falls die Werte auf der Hauptdiagonale und allen Nebendiagonalen konstant sind. Mithilfe einer Funktion der Wiener Klasse $f(\\lambda)$ lässt sich die Klasse der Toeplitz-Matrizen\n",
    "$$ T_n(f) = \\{\\frac{1}{2 \\pi} \\int_0^{2\\pi} f(\\lambda) e^{-i(k-j)\\lambda} \\mathrm{d}\\lambda ; k,j = 0,1,\\ldots,n-1\\}$$\n",
    "konstruieren.\n",
    "\n",
    "1. Welches $f(\\lambda)$ und $n$ generiert den zentrierte Finite-Differenzen-Operator 2. Ordnung des Laplace-Operators?\n",
    "1. Zeigen Sie, dass $T_n(f(\\lambda))$ genau dann hermitesch ist wenn $f(\\lambda)$ eine reellwertige Funktion ist.\n",
    "1. Sei $f(\\lambda)$ reellwertig und begrenzt durch $m_f \\leq f(\\lambda) \\leq M_f$. Beweisen Sie mithilfe des Rayleigh Koeffizienten, dass für die Eigenwerte $\\tau_{n,k}$ von $T_n(f)$ gilt \n",
    "    $m_f\\leq\\tau_{n,k}\\leq M_f$.\n",
    "1. Zeigen Sie für nicht-hermitesche $T_n(f)$, dass die Ungleichung $\\| T_n(f) \\| \\leq M_{|f_r|}+M_{|f_i|} \\leq 2 M_{|f|}$ gilt, wobei $f(\\lambda) = f_r(\\lambda) + i f_i(\\lambda)$ mit den reellwertigen Funktionen $f_i,f_r$ aus der Wiener Klasse.\n",
    "\n",
    "Tipp: Nutzen Sie den Satz von Parseval für $x^* \\cdot x$.\n"
   ]
  }
 ],
 "metadata": {
  "kernelspec": {
   "display_name": "Python 3",
   "language": "python",
   "name": "python3"
  },
  "language_info": {
   "codemirror_mode": {
    "name": "ipython",
    "version": 3
   },
   "file_extension": ".py",
   "mimetype": "text/x-python",
   "name": "python",
   "nbconvert_exporter": "python",
   "pygments_lexer": "ipython3",
   "version": "3.4.4"
  }
 },
 "nbformat": 4,
 "nbformat_minor": 0
}
