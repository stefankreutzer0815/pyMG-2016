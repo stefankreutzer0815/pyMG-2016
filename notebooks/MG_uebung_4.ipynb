{
 "cells": [
  {
   "cell_type": "markdown",
   "metadata": {},
   "source": [
    "<center> \n",
    "<h1> Mehrgittermethoden </h1> \n",
    "<h2> Übungsaufgaben </h2>\n",
    "<h3> Robert Speck & Dieter Moser, Sommersemester 2016 </h3>\n",
    "</center>\n",
    "___\n"
   ]
  },
  {
   "cell_type": "markdown",
   "metadata": {},
   "source": [
    "### Der FMG-Zyklus ###\n",
    "\n",
    "Implementieren Sie entweder die rekursive oder die nicht-rekursive Version des FMG-Prediktors mit anschließenden V-Zyklen. Fügen Sie die Funktionalität in die `MyMultigrid`-Klasse ein. Stellen Sie die Entwicklung des Fehlers für das Poisson-Problem grafisch dar, indem Sie für jedes Level (z.B. nach der Grobgitter-Korrektur) den Fehler über die Freiheitsgrade plotten. \n",
    "\n",
    "Vergleichen Sie den Fehler mit dem Diskretisierungsfehler des Laplace-Operators und mit dem Fehler von $k$ V-Zyklen."
   ]
  },
  {
   "cell_type": "code",
   "execution_count": 12,
   "metadata": {},
   "outputs": [
    {
     "name": "stdout",
     "output_type": "stream",
     "text": [
      "nlevels: 10\nusing ones\n"
     ]
    },
    {
     "name": "stdout",
     "output_type": "stream",
     "text": [
      "fmg cycle:  [0.03125, 0.0091628086419753146, 0.0027178500588494331, 0.00073853156890231475, 0.00018953210028019307, 4.7821982282481024e-05, 1.2015977491272589e-05, 3.0192634137143903e-06, 7.5730603436158228e-07, 7.3573055783121566e-08]\nv-cycles:  [0.098004893296774295, 0.0085689709140502335, 0.00074977533459756607, 6.5637753520086939e-05, 5.7488367439240129e-06, 5.0373676370452092e-07, 4.4158954368156422e-08, 3.8727498430368712e-09, 3.3978761471153973e-10, 2.9826432990098795e-11]\ndiskfehler:  4.56162885243e-14\n"
     ]
    },
    {
     "data": {
      "image/png": "[encoded data removed]",
      "text/plain": [
       "<matplotlib.figure.Figure at 0x7fc7e1929050>"
      ]
     },
     "metadata": {},
     "output_type": "display_data"
    }
   ],
   "source": [
    "%matplotlib inline\n",
    "\n",
    "import matplotlib.pyplot as plt\n",
    "import numpy as np\n",
    "import scipy.sparse.linalg as spLA\n",
    "import scipy.linalg as LA\n",
    "\n",
    "from project.mymultigrid import MyMultigrid\n",
    "from project.poisson1d import Poisson1D\n",
    "from project.linear_transfer import LinearTransfer\n",
    "from project.weighted_jacobi import WeightedJacobi\n",
    "\n",
    "\n",
    "\n",
    "ndofs = 1023\n",
    "nlevels = int(np.log2(ndofs+1))\n",
    "print \"nlevels:\",nlevels\n",
    "prob = Poisson1D(ndofs=ndofs)\n",
    "\n",
    "mymg = MyMultigrid(ndofs, nlevels=nlevels)\n",
    "mymg.attach_transfer(LinearTransfer)\n",
    "mymg.attach_smoother(WeightedJacobi, prob.A, omega=2.0/3.0)\n",
    "\n",
    "nu0 = 1\n",
    "nu1 = 2\n",
    "nu2 = 2\n",
    "\n",
    "u = mymg.do_fmg_cycle(prob.rhs, nu1=nu1, nu2=nu2)\n",
    "\n",
    "def uex(x):\n",
    "    return -1./2*x**2+1./2*x\n",
    "\n",
    "errlist=[]\n",
    "ll=mymg.get_list()\n",
    "for i in range(np.size(ll)):\n",
    "    s=np.size(ll[i])\n",
    "    linsp=np.linspace(0,1,s+2)[1:-1]\n",
    "    errlist.append(np.linalg.norm(uex(linsp)-ll[i], np.inf))\n",
    "    \n",
    "print \"fmg cycle: \",errlist\n",
    "\n",
    "errvlist=[]\n",
    "ls=np.linspace(0,1, ndofs+2)[1:-1]\n",
    "k=6\n",
    "uv=np.sin(np.pi*k*ls)\n",
    "\n",
    "for i in range(nlevels):\n",
    "    uv=mymg.do_v_cycle(uv, prob.rhs, nu1=nu1, nu2=nu2, lstart=0)\n",
    "    errvlist.append(np.linalg.norm(uex(ls)-uv, np.inf))\n",
    "\n",
    "print \"v-cycles: \",errvlist\n",
    "\n",
    "diskfehler = np.linalg.norm(uex(ls)-spLA.spsolve(prob.A, prob.rhs),np.inf)\n",
    "print \"diskfehler: \", diskfehler\n",
    "plt.semilogy(errlist)\n",
    "plt.show()\n",
    "\n",
    "\n"
   ]
  },
  {
   "cell_type": "markdown",
   "metadata": {},
   "source": [
    "### Fourier Reihen \n",
    "\n",
    "Sei $\\{t_k\\}_{-\\infty}^{\\infty}$ eine absolut summierbare Folge, d.h. $\\sum_{k=-\\infty}^{\\infty}|t_k| < \\infty$.\n",
    "Sei desweiteren $f(\\lambda) = \\lim_{n \\to \\infty} \\sum_{k=-n}^{n}t_k e^{ik\\lambda}$.\n",
    "\n",
    "1. Zeigen Sie, dass $S_n(\\lambda) = \\sum_{k=-n}^{n}t_k e^{ik\\lambda}$ gleichmässig gegen $f(\\lambda)$ konvergiert.\n",
    "1. Folgern Sie, dass $f(\\lambda)$ Riemann-integrierbar und beschränkt auf $[0,2\\pi]$ ist.\n",
    "1. Finden Sie mithilfe der inversen Fouriertransformation eine Darstellung von $t_k$ unter Verwendung von $f(\\lambda)$.\n",
    "\n",
    "Wir nennen $f(\\lambda)$ eine Funktion der *Wiener Klasse*.\n"
   ]
  },
  {
   "cell_type": "markdown",
   "metadata": {},
   "source": [
    "### Über Toeplitz-Matrizen (Teil 1)\n",
    "Eine Matrix nennt man eine Toeplitz-Matrix falls die Werte auf der Hauptdiagonale und allen Nebendiagonalen konstant sind. Mithilfe einer Funktion der Wiener Klasse $f(\\lambda)$ lässt sich die Klasse der Toeplitz-Matrizen\n",
    "$$ T_n(f) = \\{\\frac{1}{2 \\pi} \\int_0^{2\\pi} f(\\lambda) e^{-i(k-j)\\lambda} \\mathrm{d}\\lambda ; k,j = 0,1,\\ldots,n-1\\}$$\n",
    "konstruieren.\n",
    "\n",
    "1. Welches $f(\\lambda)$ und $n$ generiert den zentrierte Finite-Differenzen-Operator 2. Ordnung des Laplace-Operators?\n",
    "1. Zeigen Sie, dass $T_n(f(\\lambda))$ genau dann hermitesch ist wenn $f(\\lambda)$ eine reellwertige Funktion ist.\n",
    "1. Sei $f(\\lambda)$ reellwertig und begrenzt durch $m_f \\leq f(\\lambda) \\leq M_f$. Beweisen Sie mithilfe des Rayleigh Koeffizienten, dass für die Eigenwerte $\\tau_{n,k}$ von $T_n(f)$ gilt \n",
    "    $m_f\\leq\\tau_{n,k}\\leq M_f$.\n",
    "1. Zeigen Sie für nicht-hermitesche $T_n(f)$, dass die Ungleichung $\\| T_n(f) \\| \\leq M_{|f_r|}+M_{|f_i|} \\leq 2 M_{|f|}$ gilt, wobei $f(\\lambda) = f_r(\\lambda) + i f_i(\\lambda)$ mit den reellwertigen Funktionen $f_i,f_r$ aus der Wiener Klasse.\n",
    "\n",
    "Tipp: Nutzen Sie den Satz von Parseval für $x^* \\cdot x$.\n"
   ]
  }
 ],
 "metadata": {
  "kernelspec": {
   "display_name": "Python 3",
   "language": "python",
   "name": "python3"
  },
  "language_info": {
   "codemirror_mode": {
    "name": "ipython",
    "version": 3.0
   },
   "file_extension": ".py",
   "mimetype": "text/x-python",
   "name": "python",
   "nbconvert_exporter": "python",
   "pygments_lexer": "ipython3",
   "version": "3.4.4"
  }
 },
 "nbformat": 4,
 "nbformat_minor": 0
}