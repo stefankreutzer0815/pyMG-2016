{
 "cells": [
  {
   "cell_type": "markdown",
   "metadata": {},
   "source": [
    "<center> \n",
    "<h1> Mehrgittermethoden </h1> \n",
    "<h2> Übungsaufgaben </h2>\n",
    "<h3> Robert Speck & Dieter Moser, Sommersemester 2016 </h3>\n",
    "</center>\n",
    "___\n"
   ]
  },
  {
   "cell_type": "markdown",
   "metadata": {},
   "source": [
    "### Das Helmholtz-Problem ###\n",
    "\n",
    "1. Implementieren Sie das 1D Helmholtz-Problem $-\\Delta u - \\sigma u = 0$, $u(0) = u(1) = 0$ als neue Problem-Klasse. Dokumentieren Sie Ihren Code angemessen mit Hilfe des Sphinx-Frameworks. Nehmen Sie das Poisson-Problem als Vorlage.\n",
    "1. Schreiben Sie ein Skript, welches für festes $h$ aber für verschiedene $\\sigma\\in[0,50]$ solange V-Zyklen  ausführt, bis eine Residuumstoleranz von $10^{-10}$ erreicht wird. Konvergiert der Mehrgitter-Algorithmus immer? Plotten Sie die Anzahl der Iterationen gegen $\\sigma$ und interpretieren Sie das Ergebnis. \n",
    "1. Wählen Sie nun $\\sigma\\in[-50,0]$. Was stellen Sie fest?\n",
    "\n",
    "Hinweis: Im `bin`-Ordner gibt die Datei `mg_poisson_test.py`, in dem der MG-Löser testweise aufgerufen wird. \n",
    "\n",
    "Erstellen Sie einen Release (welches auch das bearbeitete Notebook enthält) und reichen Sie den Link zum Release ein. Bei Einreichung wird dieses Notebook ausgeführt und erzeugt eine html-Version, die dann zur Korrektur genutzt wird. Achten Sie daher darauf, dass das Notebook ohne Fehler ausführbar ist und alle gewünschten Lösungen/Erklärungen enthält. "
   ]
  },
  {
   "cell_type": "code",
   "execution_count": 39,
   "metadata": {},
   "outputs": [
    {
     "data": {
      "image/png": "[encoded data removed]",
      "text/plain": [
       "<matplotlib.figure.Figure at 0x7fc3070b8e10>"
      ]
     },
     "metadata": {},
     "output_type": "display_data"
    },
    {
     "name": "stdout",
     "output_type": "stream",
     "text": [
      "(1, 23.092151221080769, 0.9429166449746843)\n(2, 35.762082154045089, 2.4272130242102912)\n(3, 99.197570926605181, 6.8181193126886379)\n(4, 278.28102480075381, 19.122663319369543)\n(5, 781.37116553368162, 53.637744700573833)\n(6, 2506.9659041944651, 151.65995067724765)\n(7, 132342.11499592819, 4491.0462105046709)\n(8, 47760447.80890774, 1640033.01113059)\n(9, 17440024366.365978, 598904609.64456713)\n(10, 6368716997458.7119, 218707019321.67041)\n(11, 2325717792112269.5, 79867076543217.656)\n(12, 8.4930187193602701e+17, 29165730187097540.0)\n(13, 3.1014668767642544e+20, 1.0650694305635426e+19)\n(14, 1.1325886714155454e+23, 3.8894033670473609e+21)\n(15, 4.1359690417107539e+25, 1.4203260480018839e+24)\n(16, 1.5103665033670048e+28, 5.1867237523479154e+26)\n(17, 5.5155320349050125e+30, 1.8940794137385799e+29)\n(18, 2.0141530919976505e+33, 6.916768651741426e+31)\n(19, 7.3552517732290371e+35, 2.5258544195505227e+34)\n(20, 2.6859789785856487e+38, 9.223874427485345e+36)\n(1, 14.908825799929559, 0.22740373801489988)\n(2, 0.80207453680372964, 0.31967336674351698)\n(3, 0.57138506709452486, 0.38130007602973537)\n(4, 0.65823858340741026, 0.45088203027928775)\n(5, 0.77731246845789315, 0.5329855166855868)\n(6, 0.91888412026418109, 0.6300322060869048)\n(7, 1.0884610986033465, 0.74476524587199178)\n(8, 1.3559271958046111, 0.88089052613883756)\n(9, 3.718609126797503, 1.0571234383870105)\n(10, 71.565840407046153, 2.9476698623052178)\n(11, 2178.0010459725822, 82.381527507628007)\n(12, 66507.069081629757, 2515.9288692436949)\n(13, 2031112.8397945447, 76836.37663197871)\n(14, 62030100.053391419, 2346580.1621434824)\n(15, 1894396996.3017426, 71664473.244741872)\n(16, 57854815703.854675, 2188630419.8340516)\n(17, 1766883978194.1814, 66840693829.762169)\n(18, 53960572762252.586, 2041312371041.0317)\n(19, 1647953939685131.0, 62341605950082.875)\n(20, 50328453689498176.0, 1903910389987704.5)\n(1, 14.596699009313113, 0.079811509792734103)\n(2, 0.78166723502755531, 0.022721671273854938)\n(3, 0.11892459753215689, 0.0095602030048433928)\n(4, 0.049761857445929536, 0.0036977476768718098)\n(5, 0.019236614218243631, 0.0014175576004202828)\n(6, 0.0073740449498984617, 0.00054289196105217208)\n(7, 0.0028240705051416626, 0.00020789203605020568)\n(8, 0.0010814330816231177, 7.9608031763545029e-05)\n(9, 0.00041411281227965446, 3.0484236360539541e-05)\n(10, 0.00015857590670975696, 1.1673301962833449e-05)\n(11, 6.0723413298546802e-05, 4.4700491148574883e-06)\n(12, 2.3252938404993984e-05, 1.7117165713731453e-06)\n(13, 8.9045927893494081e-06, 6.554759071075722e-07)\n(14, 3.4105840143183741e-06, 2.5102113210273558e-07)\n(15, 1.3075737683720945e-06, 9.6165298391071019e-08)\n(16, 5.0393290962347237e-07, 3.6911217859980638e-08)\n(17, 1.9962874375778483e-07, 1.4313442875391047e-08)\n(18, 9.0190440005244454e-08, 5.8507354516734722e-09)\n(19, 6.2918672938394593e-08, 3.2445943154435497e-09)\n(20, 8.269228146673413e-08, 4.2085364082566912e-09)\n(1, 13.920004433589327, 0.053893177160225791)\n(2, 0.62689685744737744, 0.004922258418335157)\n(3, 0.037606549369684217, 0.00093405914147842717)\n(4, 0.0057519135495169849, 0.0002002067952855402)\n(5, 0.0012168814401434247, 4.0577388353613131e-05)\n(6, 0.00024593022433805345, 8.1321448452964518e-06)\n(7, 4.9258759759140958e-05, 1.6260722617289503e-06)\n(8, 9.8484408113108657e-06, 3.249928415272052e-07)\n(9, 1.968299159216258e-06, 6.4948153744026627e-08)\n(10, 3.933525647425995e-07, 1.297930740662423e-08)\n(11, 7.8607996556456783e-08, 2.593790959792841e-09)\n(12, 1.570901986269746e-08, 5.1834470049527681e-10)\n(13, 3.1393199151352746e-09, 1.0358736091120591e-10)\n(14, 6.2749450080445968e-10, 2.0704105097024694e-11)\n(15, 1.2539658200694248e-10, 4.1375791681730334e-12)\n(16, 2.5067947717616335e-11, 8.3089091162946715e-13)\n(1, 13.267972530335499, 0.04551206464681079)\n(2, 0.53726203322901256, 0.002175817089891563)\n(3, 0.023660473808774896, 0.00017264946322714803)\n(4, 0.0012663387319093999, 2.0376129141075339e-05)\n(5, 0.00011989546695190256, 2.6443624794314502e-06)\n(6, 1.598953653569879e-05, 3.3688243861185185e-07)\n(7, 2.0253860952834657e-06, 4.2103761588307975e-08)\n(8, 2.5269460479648842e-07, 5.2314945708786809e-09)\n(9, 3.1380579912365647e-08, 6.489271342502434e-10)\n(10, 3.8913015032449039e-09, 8.053357980486453e-11)\n(11, 4.8240167416224722e-10, 1.0092593427657448e-11)\n(12, 5.9827698351000436e-11, 1.3729017922514686e-12)\n"
     ]
    }
   ],
   "source": [
    "% matplotlib inline\n",
    "\n",
    "\n",
    "import numpy as np\n",
    "import scipy.linalg as LA\n",
    "import scipy.sparse.linalg as spLA\n",
    "\n",
    "from project.helmholtz import Helmholtz1D\n",
    "from project.weighted_jacobi import WeightedJacobi\n",
    "# from project.gauss_seidel import GaussSeidel\n",
    "from project.linear_transfer import LinearTransfer\n",
    "\n",
    "from project.mymultigrid import MyMultigrid\n",
    "import matplotlib.pyplot as plt\n",
    "\n",
    "if __name__ == \"__main__\":\n",
    "\n",
    "    ntests = 1\n",
    "    ndofs = 15\n",
    "    sigma = 5\n",
    "    niter_list = []\n",
    "    for sigma in range(51):\n",
    "        for n in range(ntests):\n",
    "            nlevels = int(np.log2(ndofs + 1))\n",
    "\n",
    "            prob = Helmholtz1D(ndofs=ndofs, sigma=sigma)\n",
    "\n",
    "            mymg = MyMultigrid(ndofs=ndofs, nlevels=nlevels)\n",
    "            mymg.attach_transfer(LinearTransfer)\n",
    "            mymg.attach_smoother(WeightedJacobi, prob.A, omega=2.0 / 3.0)\n",
    "            # mymg.attach_smoother(GaussSeidel,prob.A)\n",
    "\n",
    "            k = 6\n",
    "            xvalues = np.array([(i + 1) * prob.dx for i in range(prob.ndofs)])\n",
    "            prob.rhs = (np.pi * k) ** 2 * np.sin(np.pi * k * xvalues)\n",
    "\n",
    "            uex = spLA.spsolve(prob.A, prob.rhs)\n",
    "\n",
    "            res = 1\n",
    "            niter = 0\n",
    "            err = []\n",
    "            u = np.zeros(uex.size)\n",
    "            while res > 1E-10 and niter < 10:\n",
    "                niter += 1\n",
    "                u = mymg.do_v_cycle(u, prob.rhs, 2, 2, 0)\n",
    "                res = LA.norm(prob.A.dot(u) - prob.rhs, np.inf)\n",
    "                err.append(LA.norm(u - uex, np.inf))\n",
    "                #print(niter,res,err[-1])\n",
    "\n",
    "            niter_list.append(niter)\n",
    "\n",
    "    plt.plot(niter_list)\n",
    "    #plt.ylim((0, 11))  #WTF\n",
    "    plt.show()\n",
    "    \n",
    "    for sigma in range(-50,0,10):\n",
    "        for n in range(ntests):\n",
    "            nlevels = int(np.log2(ndofs + 1))\n",
    "\n",
    "            prob = Helmholtz1D(ndofs=ndofs, sigma=sigma)\n",
    "\n",
    "            mymg = MyMultigrid(ndofs=ndofs, nlevels=nlevels)\n",
    "            mymg.attach_transfer(LinearTransfer)\n",
    "            mymg.attach_smoother(WeightedJacobi, prob.A, omega=2.0 / 3.0)\n",
    "            # mymg.attach_smoother(GaussSeidel,prob.A)\n",
    "\n",
    "            k = 6\n",
    "            xvalues = np.array([(i + 1) * prob.dx for i in range(prob.ndofs)])\n",
    "            prob.rhs = (np.pi * k) ** 2 * np.sin(np.pi * k * xvalues)\n",
    "\n",
    "            uex = spLA.spsolve(prob.A, prob.rhs)\n",
    "\n",
    "            res = 1\n",
    "            niter = 0\n",
    "            err = []\n",
    "            u = np.zeros(uex.size)\n",
    "            while res > 1E-10 and niter < 20:\n",
    "                niter += 1\n",
    "                u = mymg.do_v_cycle(u, prob.rhs, 2, 2, 0)\n",
    "                res = LA.norm(prob.A.dot(u) - prob.rhs, np.inf)\n",
    "                err.append(LA.norm(u - uex, np.inf))\n",
    "                print(niter,res,err[-1])\n",
    "\n",
    "            niter_list.append(niter)"
   ]
  },
  {
   "cell_type": "markdown",
   "metadata": {},
   "source": [
    "### Der FMG-Zyklus (\"Live-Aufgabe\")###\n",
    "\n",
    "Implementieren Sie entweder die rekursive oder die nicht-rekursive Version des FMG-Prediktors mit anschließenden V-Zyklen. Fügen Sie die Funktionalität in die `MyMultigrid`-Klasse ein. Stellen Sie die Entwicklung des Fehlers für das Poisson-Problem grafisch dar, indem Sie für jedes Level (z.B. nach der Grobgitter-Korrektur) den Fehler über die Freiheitsgrade plotten."
   ]
  },
  {
   "cell_type": "markdown",
   "metadata": {},
   "source": [
    ""
   ]
  },
  {
   "cell_type": "markdown",
   "metadata": {},
   "source": [
    "### Über zyklische Matrizen (Teil 1)\n",
    "Sei $A$ von der Gestalt\n",
    "$$A:=\\begin{pmatrix} a_0&a_{n-1}&a_{n-2}&\\ldots&a_1\\\\ a_1&a_0&a_{n-1}&\\ldots&a_2\\\\ a_2&a_1&a_0&\\ldots&a_3\\\\ &\\ddots&\\ddots&\\ddots\\\\ a_{n-1}&a_{n-2}&a_{n-3}&\\ldots&a_0\\end{pmatrix}. $$\n",
    "\n",
    "1. Berechnen Sie das charakteristische Polynom, die Eigenwerte, Eigenvektoren und die Determinante von $A$.\n",
    "1. Seien $B$ und $C$ zyklische miteinander kommutierende Matrizen mit den Eigenwerten $\\{\\beta_k\\},\\{\\zeta_k\\}$.\n",
    "   Was sind die Eigenwerte von $BC$.\n",
    "1. Zeigen Sie, dass der Raum der zyklischen Matrizen ein Untervektorraum des $K^{N \\times N}$\n"
   ]
  },
  {
   "cell_type": "markdown",
   "metadata": {},
   "source": [
    "### Fourier Reihen \n",
    "\n",
    "Sei $\\{t_k\\}_{-\\infty}^{\\infty}$ eine absolut summierbare Folge, d.h. $\\sum_{k=-\\infty}^{\\infty}|t_k| < \\infty$.\n",
    "Sei desweiteren $f(\\lambda) = \\lim_{n \\to \\infty} \\sum_{k=-n}^{n}t_k e^{ik\\lambda}$.\n",
    "\n",
    "1. Zeigen Sie, dass $S_n(\\lambda) = \\sum_{k=-n}^{n}t_k e^{ik\\lambda}$ gleichmässig gegen $f(\\lambda)$ konvergiert.\n",
    "1. Folgern Sie, dass $f(\\lambda)$ Riemann-integrierbar und beschränkt auf $[0,2\\pi]$ ist.\n",
    "1. Finden Sie mithilfe der inversen Fouriertransformation eine Darstellung von $t_k$ unter Verwendung von $f(\\lambda)$.\n",
    "\n",
    "Wir nennen $f(\\lambda)$ eine Funktion der *Wiener Klasse*.\n"
   ]
  }
 ],
 "metadata": {
  "kernelspec": {
   "display_name": "Python 3",
   "language": "python",
   "name": "python3"
  },
  "language_info": {
   "codemirror_mode": {
    "name": "ipython",
    "version": 3.0
   },
   "file_extension": ".py",
   "mimetype": "text/x-python",
   "name": "python",
   "nbconvert_exporter": "python",
   "pygments_lexer": "ipython3",
   "version": "3.4.4"
  }
 },
 "nbformat": 4,
 "nbformat_minor": 0
}